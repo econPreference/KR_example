{
 "cells": [
  {
   "cell_type": "markdown",
   "id": "5dfb04b8",
   "metadata": {},
   "source": [
    "* This notebook reads processed CRSP Treasury data files given by `get_and_select_raw_data.ipynb` and generates price vectors and cashflow matrices. \n",
    "* We follow Gurkaynak, Sack, and Wright (2007) and Liu and Wu (2021) and exclude the two most recently issued securities with maturities of 2, 3, 4, 5, 7, 10, 20, and 30 years for securities issued in 1980 or later. \n",
    "* Price vectors and cashflow matrices are generated only for dates in between `start_date` and `end_date` (inclusive). If the number of time periods is large (e.g. > 10,000 days), export this notebook into .py file and run the .py file instead to accelerate computation. \n",
    "* Cashflow matrices are saved in compressed form separately for each date, while price vectors are exported in a dataframe with date index. "
   ]
  },
  {
   "cell_type": "code",
   "execution_count": 1,
   "id": "dd75e9f2",
   "metadata": {},
   "outputs": [],
   "source": [
    "import pandas as pd\n",
    "import numpy as np\n",
    "import matplotlib.pyplot as plt\n",
    "import os\n",
    "from tqdm.auto import tqdm\n",
    "import pickle\n",
    "import scipy.sparse as sps"
   ]
  },
  {
   "cell_type": "markdown",
   "id": "22dc83e7",
   "metadata": {},
   "source": [
    "# Settings"
   ]
  },
  {
   "cell_type": "code",
   "execution_count": 2,
   "id": "09d29a2b",
   "metadata": {},
   "outputs": [],
   "source": [
    "# settings\n",
    "dir_data = './processed_data/' # where to read selected data\n",
    "dir_output = './B_and_C/' # where to save formatted data\n",
    "dir_C = dir_output+'C_npz/' # where to save compressed cashflow matrices\n",
    "\n",
    "mat_day = 365*31 # time to maturity maturity cutoff\n",
    "prefix_C = 'C_30yr_' \n",
    "removal_maturities=[2, 3, 4, 5, 7, 10, 20, 30] # on-the-run filter operates on these maturities\n",
    "\n",
    "first_date = pd.to_datetime('2021-01-01') # first date (inclusive) for generating formatted data\n",
    "last_date = pd.to_datetime('2021-12-31') # last date (inclusive) for generating formatted data\n",
    "\n",
    "if not os.path.exists(dir_C):\n",
    "    os.makedirs(dir_C)"
   ]
  },
  {
   "cell_type": "markdown",
   "id": "7370870c",
   "metadata": {},
   "source": [
    "# Read processed data"
   ]
  },
  {
   "cell_type": "code",
   "execution_count": 3,
   "id": "80b860a8",
   "metadata": {},
   "outputs": [],
   "source": [
    "df_B = pd.read_pickle(dir_data+'df_B.pkl') # price\n",
    "df_pay = pd.read_pickle(dir_data+'df_pay.pkl') # coupon payment info\n",
    "df_info_dly = pd.read_pickle(dir_data+'df_info_dly.pkl') # security info\n",
    "df_t_lookup = pd.read_pickle(dir_data+'df_t_lookup_daily.pkl') # date lookup table\n"
   ]
  },
  {
   "cell_type": "code",
   "execution_count": 4,
   "id": "4ecc2083",
   "metadata": {},
   "outputs": [
    {
     "data": {
      "application/vnd.jupyter.widget-view+json": {
       "model_id": "4bca9421476040fa8b54de83abb600df",
       "version_major": 2,
       "version_minor": 0
      },
      "text/plain": [
       "  0%|          | 0/5586 [00:00<?, ?it/s]"
      ]
     },
     "metadata": {},
     "output_type": "display_data"
    },
    {
     "name": "stderr",
     "output_type": "stream",
     "text": [
      "/tmp/ipykernel_62388/1569284604.py:12: PerformanceWarning: DataFrame is highly fragmented.  This is usually the result of calling `frame.insert` many times, which has poor performance.  Consider joining all columns at once using pd.concat(axis=1) instead.  To get a de-fragmented frame, use `newframe = frame.copy()`\n",
      "  df_ttm[kytreasno]=(maturity_date-df_ttm.index).days\n"
     ]
    }
   ],
   "source": [
    "# get time to maturity of all securities\n",
    "df_ttm=pd.DataFrame(index=df_B.index)\n",
    "\n",
    "pbar=tqdm(total=len(df_info_dly))\n",
    "for i in range(len(df_info_dly)):\n",
    "    kytreasno=df_info_dly.iloc[i].KYTREASNO\n",
    "    maturity_date=df_info_dly.iloc[i].TMATDT\n",
    "    issue_date=df_info_dly.iloc[i].TDATDT\n",
    "    time_to_maturity=(maturity_date-df_ttm.index).days\n",
    "    \n",
    "    # time_since_issue=(df_ttm.index-issue_date).days\n",
    "    df_ttm[kytreasno]=(maturity_date-df_ttm.index).days\n",
    "    pbar.update(1)\n"
   ]
  },
  {
   "cell_type": "markdown",
   "id": "df8a1bc0",
   "metadata": {},
   "source": [
    "# Generate price vectors and cashflow matrices"
   ]
  },
  {
   "cell_type": "code",
   "execution_count": 5,
   "id": "502e00e5",
   "metadata": {},
   "outputs": [
    {
     "name": "stdout",
     "output_type": "stream",
     "text": [
      "Maturity date cutoff: 11315 days\n",
      "Max number of securities on a day nmax: 380\n",
      "Number of securities num_kytreasno: 5586\n",
      "First date for generating data: 2021-01-01 00:00:00\n",
      "Last date for generating data: 2021-12-31 00:00:00\n"
     ]
    }
   ],
   "source": [
    "# get dimension for cashflow matrix C\n",
    "\n",
    "num_kytreasno = len(df_B.columns)\n",
    "nmax = (~np.isnan(df_B)).sum(axis=1).max()\n",
    "\n",
    "print('Maturity date cutoff: {} days'.format(mat_day))\n",
    "print('Max number of securities on a day nmax: {}'.format(nmax))\n",
    "print('Number of securities num_kytreasno: {}'.format(num_kytreasno))\n",
    "\n",
    "print('First date for generating data: {}'.format(first_date))\n",
    "print('Last date for generating data: {}'.format(last_date))\n",
    "\n",
    "# dimension of cashflow matrix C is nmax by Nmax_C on each date\n",
    "# the first col of C mat is for cashflow due today, we will remove the first col when using data\n",
    "Nmax_C = mat_day+1 \n",
    "\n",
    "if not df_B.index[0]<=first_date<=last_date<=df_B.index[-1]:\n",
    "    raise ValueError('Date out of range')\n"
   ]
  },
  {
   "cell_type": "code",
   "execution_count": 6,
   "id": "3faeda92",
   "metadata": {},
   "outputs": [
    {
     "data": {
      "application/vnd.jupyter.widget-view+json": {
       "model_id": "7ceefea86e974aa9bf7892509e51396b",
       "version_major": 2,
       "version_minor": 0
      },
      "text/plain": [
       "  0%|          | 0/252 [00:00<?, ?it/s]"
      ]
     },
     "metadata": {},
     "output_type": "display_data"
    }
   ],
   "source": [
    "df_t_lookup_slice = df_t_lookup[(df_t_lookup.index>=first_date)&(df_t_lookup.index<=last_date)]\n",
    "T_slice = len(df_t_lookup_slice)\n",
    "B_mat = np.full((T_slice, nmax), np.nan)\n",
    "\n",
    "pbar = tqdm(total = T_slice)\n",
    "for t in range(T_slice):\n",
    "    date = df_t_lookup_slice.index[t]\n",
    "    if date>=pd.to_datetime('1980-01-01'):\n",
    "        remove_on_the_run=True\n",
    "    else:\n",
    "        remove_on_the_run=False\n",
    "\n",
    "    # find kytreasno whose time to maturity is between (0, mat_day]\n",
    "    df_ttm_slice = df_ttm.loc[date]\n",
    "    arr_kytreasno = df_ttm_slice[(df_ttm_slice>0)&(df_ttm_slice<=mat_day)].index.values\n",
    "\n",
    "    #########\n",
    "    # fill prices\n",
    "    #########\n",
    "    srs_B = df_B.loc[date][arr_kytreasno]\n",
    "    # remove prices that are nan, this happen if bond has not been issued\n",
    "    srs_B = srs_B[~srs_B.isnull()]\n",
    "\n",
    "\n",
    "    # on-the-run filter: Exclude the two most recently issued securities with \n",
    "    # maturities of 2, 3, 4, 5, 7, 10, 20, and 30 years for securities issued in 1980 or later.\n",
    "    arr_kytreasno = srs_B.index.values\n",
    "    if remove_on_the_run:\n",
    "        df_info_slice = df_info_dly[df_info_dly.KYTREASNO.isin(arr_kytreasno)]\n",
    "        arr_kytreasno_rm = []\n",
    "        for maturity in removal_maturities:\n",
    "            df_temp = df_info_slice[df_info_slice.RoundedMaturityYears==maturity]\n",
    "            arr_kytreasno_rm.extend(list(df_temp.sort_values(by='TDATDT',ascending=False)\\\n",
    "                                         .iloc[:2].KYTREASNO.values))\n",
    "        arr_kytreasno = list(set(arr_kytreasno).difference(set(arr_kytreasno_rm)))\n",
    "\n",
    "    srs_B = srs_B[arr_kytreasno]\n",
    "    num_prc = len(srs_B)\n",
    "\n",
    "    # fill B_mat \n",
    "    B_mat[t, :num_prc] = srs_B.values\n",
    "\n",
    "    \n",
    "    #########\n",
    "    # generate cashflow matrices\n",
    "    #########\n",
    "    # get payment\n",
    "    df_pay_valid_temp = df_pay[df_pay.KYTREASNO.isin(arr_kytreasno)]\n",
    "    # allocate space\n",
    "    # need to discard the first col of C later on because no payment due today by construction\n",
    "    arr_C_temp = np.zeros([nmax,Nmax_C])\n",
    "\n",
    "    for i, kytreasno in enumerate(arr_kytreasno):\n",
    "        # slice payment info corresponding to kytreasno\n",
    "        df_pay_kytreasno_temp = df_pay_valid_temp[df_pay_valid_temp.KYTREASNO==kytreasno]\n",
    "\n",
    "        # calculate days left to coupon payment\n",
    "        time_to_coupon_temp=df_pay_kytreasno_temp.TPQDATE-date\n",
    "        arr_day_to_coupon=time_to_coupon_temp.values.astype('timedelta64[D]').astype('int16')\n",
    "\n",
    "        # add upcoming coupon payments to cashflow matrix\n",
    "        # do not record cashflow today        \n",
    "        arr_day_to_coupon_pos = arr_day_to_coupon[arr_day_to_coupon>0]\n",
    "        arr_C_temp[i,arr_day_to_coupon_pos] = \\\n",
    "            df_pay_kytreasno_temp[arr_day_to_coupon>0].PDINT.values\n",
    "\n",
    "        # add face value payment ($100) to cashflow matrix\n",
    "        day_to_mat=(df_info_dly[df_info_dly.KYTREASNO==kytreasno].TMATDT-date)\\\n",
    "            .values.astype('timedelta64[D]').astype('int16')\n",
    "        arr_C_temp[i,day_to_mat]+=100    \n",
    "\n",
    "    # convert to sparse matrix csr format and save to npz file\n",
    "    csr_mat_temp=sps.csr_matrix(arr_C_temp)\n",
    "    npz_filename='{}{}.npz'.format(prefix_C, date.strftime('%Y-%m-%d'))\n",
    "    sps.save_npz(dir_C+npz_filename,csr_mat_temp)\n",
    "\n",
    "    pbar.update(1)\n",
    "\n",
    "\n",
    "df_B_mat = pd.DataFrame(index=df_t_lookup_slice.index, data=B_mat)\n",
    "df_nt = (~df_B_mat.isna()).sum(axis=1).to_frame(name='nt')"
   ]
  },
  {
   "cell_type": "code",
   "execution_count": 7,
   "id": "f6a3cc1a",
   "metadata": {},
   "outputs": [],
   "source": [
    "# generate a dictionary of parameters\n",
    "dict_par = {'T_slice':T_slice,\n",
    "          'Nmax':mat_day,\n",
    "          'Nmax_C':Nmax_C,\n",
    "          'nmax':nmax,\n",
    "          'first_date':first_date,\n",
    "          'last_date':last_date,\n",
    "          'prefix_C':prefix_C,\n",
    "          'dir_C':dir_C,\n",
    "         'removal_maturities':removal_maturities,\n",
    "         }\n",
    "\n",
    "# save\n",
    "with open(dir_output+'dict_par.pkl','wb') as handle:\n",
    "    pickle.dump(dict_par,handle,protocol=pickle.HIGHEST_PROTOCOL)\n",
    "\n",
    "df_B_mat.to_pickle(dir_output+'df_B_mat.pkl')\n",
    "df_nt.to_pickle(dir_output+'df_nt.pkl')"
   ]
  }
 ],
 "metadata": {
  "kernelspec": {
   "display_name": "Python 3 (ipykernel)",
   "language": "python",
   "name": "python3"
  },
  "language_info": {
   "codemirror_mode": {
    "name": "ipython",
    "version": 3
   },
   "file_extension": ".py",
   "mimetype": "text/x-python",
   "name": "python",
   "nbconvert_exporter": "python",
   "pygments_lexer": "ipython3",
   "version": "3.9.7"
  }
 },
 "nbformat": 4,
 "nbformat_minor": 5
}
